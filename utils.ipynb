{
 "cells": [
  {
   "cell_type": "markdown",
   "id": "47a9cd87",
   "metadata": {},
   "source": [
    "## Run in cmd to enable tabnine again\n",
    "    jupyter nbextension enable --py jupyter_tabnine --user\n",
    "    jupyter serverextension enable --py jupyter_tabnine --user"
   ]
  },
  {
   "cell_type": "markdown",
   "id": "f9a8a124",
   "metadata": {},
   "source": [
    "## Edit right plot style for black theme\n",
    "    from jupyterthemes import jtplot\n",
    "    jtplot.style(grid=False)"
   ]
  },
  {
   "cell_type": "markdown",
   "id": "808338c5",
   "metadata": {},
   "source": [
    "## Change theme\n",
    "    !jt -t monokai -f fira -fs 10 -nf ptsans -nfs 11 -N -kl -cursw 2 -cursc r -cellw 95% -T\n",
    "    !jt -t onedork -fs 95 -tfs 11 -nfs 115 -cellw 88% -T\n",
    "    !jt -t grade3 -fs 95 -tfs 11 -nfs 115 -cellw 88% -T"
   ]
  },
  {
   "cell_type": "markdown",
   "id": "c25d2a66",
   "metadata": {},
   "source": [
    "## Reset css and font style defaults\n",
    "    !jt -r"
   ]
  },
  {
   "cell_type": "markdown",
   "id": "f4d87be4",
   "metadata": {},
   "source": [
    "## Edit progressbar text color suitable for dark mode\n",
    "    from IPython.display import HTML, display\n",
    "\n",
    "    def set_css_in_cell_output():\n",
    "        display(HTML('''\n",
    "            <style>\n",
    "                .jupyter-widgets {color: #d5d5d5 !important;}\n",
    "                .widget-label {color: #d5d5d5 !important;}\n",
    "            </style>\n",
    "        '''))\n",
    "\n",
    "    get_ipython().events.register('pre_run_cell', set_css_in_cell_output)"
   ]
  },
  {
   "cell_type": "code",
   "execution_count": null,
   "id": "2b111c68",
   "metadata": {},
   "outputs": [],
   "source": []
  }
 ],
 "metadata": {
  "kernelspec": {
   "display_name": "Python 3 (ipykernel)",
   "language": "python",
   "name": "python3"
  },
  "language_info": {
   "codemirror_mode": {
    "name": "ipython",
    "version": 3
   },
   "file_extension": ".py",
   "mimetype": "text/x-python",
   "name": "python",
   "nbconvert_exporter": "python",
   "pygments_lexer": "ipython3",
   "version": "3.9.7"
  }
 },
 "nbformat": 4,
 "nbformat_minor": 5
}
